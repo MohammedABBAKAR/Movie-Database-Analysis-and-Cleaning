{
 "cells": [
  {
   "cell_type": "markdown",
   "id": "69f366ea-5433-4fd8-8fbb-38f085d5d86a",
   "metadata": {},
   "source": [
    "<div style=\" background-color: RGB(0,114,200);\" >\n",
    "<h1 style=\"margin: auto; padding: 20px 0; color:#fff; text-align: center\">PROJET 8 DATA ANALYST</h1>\n",
    "<h2 style=\"margin: auto; padding: 20px 0; color:#fff; text-align: center\">Movie Database Analysis and Cleaning\n",
    "</h2>\n",
    "</div>"
   ]
  },
  {
   "cell_type": "markdown",
   "id": "9fb34649-1c4e-4580-9b79-943282d35ee2",
   "metadata": {},
   "source": [
    "<div style=\"background-color: RGB(0,150,250);\" >\n",
    "<h2 style=\"margin: auto; padding: 20px; color:#fff; \">Etape 1 - Importation des librairies et chargement des fichiers</h2>\n",
    "</div>"
   ]
  },
  {
   "cell_type": "markdown",
   "id": "cee5468b-4eb3-453d-9d31-d377ff56d225",
   "metadata": {},
   "source": [
    "<div style=\"border: 1px solid RGB(0,150,250);\" >\n",
    "<h3 style=\"margin: auto; padding: 20px; color: RGB(0,150,250); \">1.1 - Importation des librairies</h3>\n",
    "</div>"
   ]
  },
  {
   "cell_type": "code",
   "execution_count": 6,
   "id": "95ab7a07-253a-4a02-8de2-50f105a275c3",
   "metadata": {},
   "outputs": [],
   "source": [
    "#Importation de la librairie Pandas\n",
    "import pandas as pd"
   ]
  },
  {
   "cell_type": "markdown",
   "id": "054dd929-000a-4780-837d-b3181b8d4394",
   "metadata": {},
   "source": [
    "<div style=\"border: 1px solid RGB(0,150,250);\" >\n",
    "<h3 style=\"margin: auto; padding: 20px; color: RGB(0,150,250); \">1.2 - Chargement des fichiers Excel</h3>\n",
    "</div>"
   ]
  },
  {
   "cell_type": "code",
   "execution_count": 4,
   "id": "e25f2a3e-d5f9-4d6e-b5e7-2a3af9bd479a",
   "metadata": {},
   "outputs": [
    {
     "name": "stdout",
     "output_type": "stream",
     "text": [
      "Untitled.ipynb  actors.xlsx     casting.xlsx    movies.xlsx\n"
     ]
    }
   ],
   "source": [
    "ls\n"
   ]
  },
  {
   "cell_type": "code",
   "execution_count": 7,
   "id": "98a45e8d-e30a-469f-858f-448d245bfdc4",
   "metadata": {},
   "outputs": [],
   "source": [
    "actors = pd.read_excel(\"actors.xlsx\")"
   ]
  },
  {
   "cell_type": "code",
   "execution_count": 8,
   "id": "91fa4fe7-22e0-49b0-8bb7-b46a9ecfd33f",
   "metadata": {},
   "outputs": [],
   "source": [
    "casting = pd.read_excel(\"casting.xlsx\")"
   ]
  },
  {
   "cell_type": "code",
   "execution_count": 9,
   "id": "1408909c-47a1-42f8-9932-2577a39175e4",
   "metadata": {},
   "outputs": [],
   "source": [
    "movies = pd.read_excel(\"movies.xlsx\")"
   ]
  },
  {
   "cell_type": "markdown",
   "id": "c049d8d9-e3b5-4b64-afda-848dd078fa65",
   "metadata": {},
   "source": [
    "<div style=\"background-color: RGB(0,150,250);\" >\n",
    "<h2 style=\"margin: auto; padding: 20px; color:#fff; \">Etape 2 - Analyse exploratoire des fichiers</h2>\n",
    "</div>"
   ]
  },
  {
   "cell_type": "markdown",
   "id": "5f321f54-1310-4817-88b1-ec49885bc6cd",
   "metadata": {},
   "source": [
    "<div style=\"border: 1px solid RGB(0,150,250);\" >\n",
    "<h3 style=\"margin: auto; padding: 20px; color: RGB(0,150,250); \">2.1 - Analyse exploratoire du fichier actors</h3>\n",
    "</div>"
   ]
  },
  {
   "cell_type": "code",
   "execution_count": 10,
   "id": "36e8d184-5d01-4b7c-8538-d60f655a9efd",
   "metadata": {},
   "outputs": [
    {
     "name": "stdout",
     "output_type": "stream",
     "text": [
      "<class 'pandas.core.frame.DataFrame'>\n",
      "RangeIndex: 5 entries, 0 to 4\n",
      "Data columns (total 4 columns):\n",
      " #   Column       Non-Null Count  Dtype  \n",
      "---  ------       --------------  -----  \n",
      " 0   Actor ID     5 non-null      int64  \n",
      " 1   Name         5 non-null      object \n",
      " 2   Age          4 non-null      float64\n",
      " 3   Nationality  5 non-null      object \n",
      "dtypes: float64(1), int64(1), object(2)\n",
      "memory usage: 292.0+ bytes\n"
     ]
    }
   ],
   "source": [
    "actors.info()"
   ]
  },
  {
   "cell_type": "code",
   "execution_count": 11,
   "id": "12f58436-33da-49c8-9f1f-705019f61fa0",
   "metadata": {},
   "outputs": [
    {
     "data": {
      "text/plain": [
       "(5, 4)"
      ]
     },
     "execution_count": 11,
     "metadata": {},
     "output_type": "execute_result"
    }
   ],
   "source": [
    "actors.shape"
   ]
  },
  {
   "cell_type": "code",
   "execution_count": 12,
   "id": "af1434b1-c7b6-40d2-a9f9-3f70e8b7d16f",
   "metadata": {},
   "outputs": [
    {
     "data": {
      "text/plain": [
       "Actor ID       0\n",
       "Name           0\n",
       "Age            1\n",
       "Nationality    0\n",
       "dtype: int64"
      ]
     },
     "execution_count": 12,
     "metadata": {},
     "output_type": "execute_result"
    }
   ],
   "source": [
    "actors.isnull().sum()"
   ]
  },
  {
   "cell_type": "code",
   "execution_count": 13,
   "id": "7c6f7bd4-870a-4034-a446-718dd856e12a",
   "metadata": {},
   "outputs": [
    {
     "data": {
      "text/html": [
       "<div>\n",
       "<style scoped>\n",
       "    .dataframe tbody tr th:only-of-type {\n",
       "        vertical-align: middle;\n",
       "    }\n",
       "\n",
       "    .dataframe tbody tr th {\n",
       "        vertical-align: top;\n",
       "    }\n",
       "\n",
       "    .dataframe thead th {\n",
       "        text-align: right;\n",
       "    }\n",
       "</style>\n",
       "<table border=\"1\" class=\"dataframe\">\n",
       "  <thead>\n",
       "    <tr style=\"text-align: right;\">\n",
       "      <th></th>\n",
       "      <th>Actor ID</th>\n",
       "      <th>Age</th>\n",
       "    </tr>\n",
       "  </thead>\n",
       "  <tbody>\n",
       "    <tr>\n",
       "      <th>count</th>\n",
       "      <td>5.000000</td>\n",
       "      <td>4.00000</td>\n",
       "    </tr>\n",
       "    <tr>\n",
       "      <th>mean</th>\n",
       "      <td>3.000000</td>\n",
       "      <td>46.75000</td>\n",
       "    </tr>\n",
       "    <tr>\n",
       "      <th>std</th>\n",
       "      <td>1.581139</td>\n",
       "      <td>4.99166</td>\n",
       "    </tr>\n",
       "    <tr>\n",
       "      <th>min</th>\n",
       "      <td>1.000000</td>\n",
       "      <td>40.00000</td>\n",
       "    </tr>\n",
       "    <tr>\n",
       "      <th>25%</th>\n",
       "      <td>2.000000</td>\n",
       "      <td>45.25000</td>\n",
       "    </tr>\n",
       "    <tr>\n",
       "      <th>50%</th>\n",
       "      <td>3.000000</td>\n",
       "      <td>47.50000</td>\n",
       "    </tr>\n",
       "    <tr>\n",
       "      <th>75%</th>\n",
       "      <td>4.000000</td>\n",
       "      <td>49.00000</td>\n",
       "    </tr>\n",
       "    <tr>\n",
       "      <th>max</th>\n",
       "      <td>5.000000</td>\n",
       "      <td>52.00000</td>\n",
       "    </tr>\n",
       "  </tbody>\n",
       "</table>\n",
       "</div>"
      ],
      "text/plain": [
       "       Actor ID       Age\n",
       "count  5.000000   4.00000\n",
       "mean   3.000000  46.75000\n",
       "std    1.581139   4.99166\n",
       "min    1.000000  40.00000\n",
       "25%    2.000000  45.25000\n",
       "50%    3.000000  47.50000\n",
       "75%    4.000000  49.00000\n",
       "max    5.000000  52.00000"
      ]
     },
     "execution_count": 13,
     "metadata": {},
     "output_type": "execute_result"
    }
   ],
   "source": [
    "actors.describe()"
   ]
  },
  {
   "cell_type": "code",
   "execution_count": 14,
   "id": "bd94c7e1-9b31-43e7-93e0-7640fd3618e5",
   "metadata": {},
   "outputs": [
    {
     "data": {
      "text/html": [
       "<div>\n",
       "<style scoped>\n",
       "    .dataframe tbody tr th:only-of-type {\n",
       "        vertical-align: middle;\n",
       "    }\n",
       "\n",
       "    .dataframe tbody tr th {\n",
       "        vertical-align: top;\n",
       "    }\n",
       "\n",
       "    .dataframe thead th {\n",
       "        text-align: right;\n",
       "    }\n",
       "</style>\n",
       "<table border=\"1\" class=\"dataframe\">\n",
       "  <thead>\n",
       "    <tr style=\"text-align: right;\">\n",
       "      <th></th>\n",
       "      <th>Actor ID</th>\n",
       "      <th>Name</th>\n",
       "      <th>Age</th>\n",
       "      <th>Nationality</th>\n",
       "    </tr>\n",
       "  </thead>\n",
       "  <tbody>\n",
       "    <tr>\n",
       "      <th>0</th>\n",
       "      <td>1</td>\n",
       "      <td>Leonardo DiCaprio</td>\n",
       "      <td>48.0</td>\n",
       "      <td>USA</td>\n",
       "    </tr>\n",
       "    <tr>\n",
       "      <th>1</th>\n",
       "      <td>2</td>\n",
       "      <td>Kate Winslet</td>\n",
       "      <td>47.0</td>\n",
       "      <td>UK</td>\n",
       "    </tr>\n",
       "    <tr>\n",
       "      <th>2</th>\n",
       "      <td>3</td>\n",
       "      <td>Matt Damon</td>\n",
       "      <td>52.0</td>\n",
       "      <td>USA</td>\n",
       "    </tr>\n",
       "    <tr>\n",
       "      <th>3</th>\n",
       "      <td>4</td>\n",
       "      <td>Joaquin Phoenix</td>\n",
       "      <td>NaN</td>\n",
       "      <td>USA</td>\n",
       "    </tr>\n",
       "    <tr>\n",
       "      <th>4</th>\n",
       "      <td>5</td>\n",
       "      <td>Anne Hathaway</td>\n",
       "      <td>40.0</td>\n",
       "      <td>USA</td>\n",
       "    </tr>\n",
       "  </tbody>\n",
       "</table>\n",
       "</div>"
      ],
      "text/plain": [
       "   Actor ID               Name   Age Nationality\n",
       "0         1  Leonardo DiCaprio  48.0         USA\n",
       "1         2       Kate Winslet  47.0          UK\n",
       "2         3         Matt Damon  52.0         USA\n",
       "3         4    Joaquin Phoenix   NaN         USA\n",
       "4         5      Anne Hathaway  40.0         USA"
      ]
     },
     "execution_count": 14,
     "metadata": {},
     "output_type": "execute_result"
    }
   ],
   "source": [
    "actors.head()"
   ]
  },
  {
   "cell_type": "markdown",
   "id": "b3dd50d2-1f04-4f7b-8f92-529a6eeeb3a0",
   "metadata": {},
   "source": [
    "<div style=\"border: 1px solid RGB(0,150,250);\" >\n",
    "<h3 style=\"margin: auto; padding: 20px; color: RGB(0,150,250); \">2.2 - Analyse exploratoire du fichier casting</h3>\n",
    "</div>"
   ]
  },
  {
   "cell_type": "code",
   "execution_count": 16,
   "id": "26069b31-4637-4fa1-9a71-3e222ae24fe6",
   "metadata": {},
   "outputs": [
    {
     "name": "stdout",
     "output_type": "stream",
     "text": [
      "<class 'pandas.core.frame.DataFrame'>\n",
      "RangeIndex: 5 entries, 0 to 4\n",
      "Data columns (total 4 columns):\n",
      " #   Column    Non-Null Count  Dtype \n",
      "---  ------    --------------  ----- \n",
      " 0   Cast ID   5 non-null      int64 \n",
      " 1   Movie ID  5 non-null      int64 \n",
      " 2   Actor ID  5 non-null      int64 \n",
      " 3   Role      5 non-null      object\n",
      "dtypes: int64(3), object(1)\n",
      "memory usage: 292.0+ bytes\n"
     ]
    }
   ],
   "source": [
    "casting.info()"
   ]
  },
  {
   "cell_type": "code",
   "execution_count": 17,
   "id": "6ec2a6b2-5781-4223-8d70-d002867e9acc",
   "metadata": {},
   "outputs": [
    {
     "data": {
      "text/html": [
       "<div>\n",
       "<style scoped>\n",
       "    .dataframe tbody tr th:only-of-type {\n",
       "        vertical-align: middle;\n",
       "    }\n",
       "\n",
       "    .dataframe tbody tr th {\n",
       "        vertical-align: top;\n",
       "    }\n",
       "\n",
       "    .dataframe thead th {\n",
       "        text-align: right;\n",
       "    }\n",
       "</style>\n",
       "<table border=\"1\" class=\"dataframe\">\n",
       "  <thead>\n",
       "    <tr style=\"text-align: right;\">\n",
       "      <th></th>\n",
       "      <th>Cast ID</th>\n",
       "      <th>Movie ID</th>\n",
       "      <th>Actor ID</th>\n",
       "    </tr>\n",
       "  </thead>\n",
       "  <tbody>\n",
       "    <tr>\n",
       "      <th>count</th>\n",
       "      <td>5.000000</td>\n",
       "      <td>5.000000</td>\n",
       "      <td>5.00000</td>\n",
       "    </tr>\n",
       "    <tr>\n",
       "      <th>mean</th>\n",
       "      <td>103.000000</td>\n",
       "      <td>2.800000</td>\n",
       "      <td>2.60000</td>\n",
       "    </tr>\n",
       "    <tr>\n",
       "      <th>std</th>\n",
       "      <td>1.581139</td>\n",
       "      <td>1.643168</td>\n",
       "      <td>1.81659</td>\n",
       "    </tr>\n",
       "    <tr>\n",
       "      <th>min</th>\n",
       "      <td>101.000000</td>\n",
       "      <td>1.000000</td>\n",
       "      <td>1.00000</td>\n",
       "    </tr>\n",
       "    <tr>\n",
       "      <th>25%</th>\n",
       "      <td>102.000000</td>\n",
       "      <td>2.000000</td>\n",
       "      <td>1.00000</td>\n",
       "    </tr>\n",
       "    <tr>\n",
       "      <th>50%</th>\n",
       "      <td>103.000000</td>\n",
       "      <td>2.000000</td>\n",
       "      <td>2.00000</td>\n",
       "    </tr>\n",
       "    <tr>\n",
       "      <th>75%</th>\n",
       "      <td>104.000000</td>\n",
       "      <td>4.000000</td>\n",
       "      <td>4.00000</td>\n",
       "    </tr>\n",
       "    <tr>\n",
       "      <th>max</th>\n",
       "      <td>105.000000</td>\n",
       "      <td>5.000000</td>\n",
       "      <td>5.00000</td>\n",
       "    </tr>\n",
       "  </tbody>\n",
       "</table>\n",
       "</div>"
      ],
      "text/plain": [
       "          Cast ID  Movie ID  Actor ID\n",
       "count    5.000000  5.000000   5.00000\n",
       "mean   103.000000  2.800000   2.60000\n",
       "std      1.581139  1.643168   1.81659\n",
       "min    101.000000  1.000000   1.00000\n",
       "25%    102.000000  2.000000   1.00000\n",
       "50%    103.000000  2.000000   2.00000\n",
       "75%    104.000000  4.000000   4.00000\n",
       "max    105.000000  5.000000   5.00000"
      ]
     },
     "execution_count": 17,
     "metadata": {},
     "output_type": "execute_result"
    }
   ],
   "source": [
    "casting.describe()"
   ]
  },
  {
   "cell_type": "code",
   "execution_count": 18,
   "id": "4904719a-c6d8-489a-a72f-4d049972cf72",
   "metadata": {},
   "outputs": [
    {
     "data": {
      "text/plain": [
       "Cast ID     0\n",
       "Movie ID    0\n",
       "Actor ID    0\n",
       "Role        0\n",
       "dtype: int64"
      ]
     },
     "execution_count": 18,
     "metadata": {},
     "output_type": "execute_result"
    }
   ],
   "source": [
    "casting.isnull().sum()"
   ]
  },
  {
   "cell_type": "code",
   "execution_count": 19,
   "id": "1acbd187-0253-4f41-927f-b2ae8ec38ae1",
   "metadata": {},
   "outputs": [
    {
     "data": {
      "text/html": [
       "<div>\n",
       "<style scoped>\n",
       "    .dataframe tbody tr th:only-of-type {\n",
       "        vertical-align: middle;\n",
       "    }\n",
       "\n",
       "    .dataframe tbody tr th {\n",
       "        vertical-align: top;\n",
       "    }\n",
       "\n",
       "    .dataframe thead th {\n",
       "        text-align: right;\n",
       "    }\n",
       "</style>\n",
       "<table border=\"1\" class=\"dataframe\">\n",
       "  <thead>\n",
       "    <tr style=\"text-align: right;\">\n",
       "      <th></th>\n",
       "      <th>Cast ID</th>\n",
       "      <th>Movie ID</th>\n",
       "      <th>Actor ID</th>\n",
       "      <th>Role</th>\n",
       "    </tr>\n",
       "  </thead>\n",
       "  <tbody>\n",
       "    <tr>\n",
       "      <th>0</th>\n",
       "      <td>101</td>\n",
       "      <td>1</td>\n",
       "      <td>1</td>\n",
       "      <td>Lead Actor</td>\n",
       "    </tr>\n",
       "    <tr>\n",
       "      <th>1</th>\n",
       "      <td>102</td>\n",
       "      <td>2</td>\n",
       "      <td>1</td>\n",
       "      <td>Lead Actor</td>\n",
       "    </tr>\n",
       "    <tr>\n",
       "      <th>2</th>\n",
       "      <td>103</td>\n",
       "      <td>2</td>\n",
       "      <td>2</td>\n",
       "      <td>Lead Actress</td>\n",
       "    </tr>\n",
       "    <tr>\n",
       "      <th>3</th>\n",
       "      <td>104</td>\n",
       "      <td>4</td>\n",
       "      <td>4</td>\n",
       "      <td>Lead Actor</td>\n",
       "    </tr>\n",
       "    <tr>\n",
       "      <th>4</th>\n",
       "      <td>105</td>\n",
       "      <td>5</td>\n",
       "      <td>5</td>\n",
       "      <td>Lead Actress</td>\n",
       "    </tr>\n",
       "  </tbody>\n",
       "</table>\n",
       "</div>"
      ],
      "text/plain": [
       "   Cast ID  Movie ID  Actor ID          Role\n",
       "0      101         1         1    Lead Actor\n",
       "1      102         2         1    Lead Actor\n",
       "2      103         2         2  Lead Actress\n",
       "3      104         4         4    Lead Actor\n",
       "4      105         5         5  Lead Actress"
      ]
     },
     "execution_count": 19,
     "metadata": {},
     "output_type": "execute_result"
    }
   ],
   "source": [
    "casting.head()"
   ]
  },
  {
   "cell_type": "markdown",
   "id": "25a00ec8-f9ff-469e-9192-9999e40bd154",
   "metadata": {},
   "source": [
    "<div style=\"border: 1px solid RGB(0,150,250);\" >\n",
    "<h3 style=\"margin: auto; padding: 20px; color: RGB(0,150,250); \">2.3 - Analyse exploratoire du fichier movies</h3>\n",
    "</div>"
   ]
  },
  {
   "cell_type": "code",
   "execution_count": 21,
   "id": "a8f0e1d1-84ea-4d1f-82c8-dfb9f64f2f79",
   "metadata": {},
   "outputs": [
    {
     "data": {
      "text/plain": [
       "(5, 6)"
      ]
     },
     "execution_count": 21,
     "metadata": {},
     "output_type": "execute_result"
    }
   ],
   "source": [
    "movies.shape"
   ]
  },
  {
   "cell_type": "code",
   "execution_count": 22,
   "id": "13d2a250-496d-424f-944d-574400de21bf",
   "metadata": {},
   "outputs": [
    {
     "name": "stdout",
     "output_type": "stream",
     "text": [
      "<class 'pandas.core.frame.DataFrame'>\n",
      "RangeIndex: 5 entries, 0 to 4\n",
      "Data columns (total 6 columns):\n",
      " #   Column        Non-Null Count  Dtype  \n",
      "---  ------        --------------  -----  \n",
      " 0   Movie ID      5 non-null      int64  \n",
      " 1   Title         5 non-null      object \n",
      " 2   Genre         5 non-null      object \n",
      " 3   Release Year  5 non-null      int64  \n",
      " 4   Budget (M)    4 non-null      float64\n",
      " 5   Revenue (M)   4 non-null      float64\n",
      "dtypes: float64(2), int64(2), object(2)\n",
      "memory usage: 372.0+ bytes\n"
     ]
    }
   ],
   "source": [
    "movies.info()"
   ]
  },
  {
   "cell_type": "code",
   "execution_count": 23,
   "id": "af56075d-3a55-4f12-8cb2-4b7b6bf131b3",
   "metadata": {},
   "outputs": [
    {
     "data": {
      "text/html": [
       "<div>\n",
       "<style scoped>\n",
       "    .dataframe tbody tr th:only-of-type {\n",
       "        vertical-align: middle;\n",
       "    }\n",
       "\n",
       "    .dataframe tbody tr th {\n",
       "        vertical-align: top;\n",
       "    }\n",
       "\n",
       "    .dataframe thead th {\n",
       "        text-align: right;\n",
       "    }\n",
       "</style>\n",
       "<table border=\"1\" class=\"dataframe\">\n",
       "  <thead>\n",
       "    <tr style=\"text-align: right;\">\n",
       "      <th></th>\n",
       "      <th>Movie ID</th>\n",
       "      <th>Release Year</th>\n",
       "      <th>Budget (M)</th>\n",
       "      <th>Revenue (M)</th>\n",
       "    </tr>\n",
       "  </thead>\n",
       "  <tbody>\n",
       "    <tr>\n",
       "      <th>count</th>\n",
       "      <td>5.000000</td>\n",
       "      <td>5.000000</td>\n",
       "      <td>4.000000</td>\n",
       "      <td>4.000000</td>\n",
       "    </tr>\n",
       "    <tr>\n",
       "      <th>mean</th>\n",
       "      <td>3.000000</td>\n",
       "      <td>2009.800000</td>\n",
       "      <td>168.000000</td>\n",
       "      <td>1634.750000</td>\n",
       "    </tr>\n",
       "    <tr>\n",
       "      <th>std</th>\n",
       "      <td>1.581139</td>\n",
       "      <td>8.167007</td>\n",
       "      <td>71.642632</td>\n",
       "      <td>1055.566317</td>\n",
       "    </tr>\n",
       "    <tr>\n",
       "      <th>min</th>\n",
       "      <td>1.000000</td>\n",
       "      <td>1997.000000</td>\n",
       "      <td>70.000000</td>\n",
       "      <td>677.000000</td>\n",
       "    </tr>\n",
       "    <tr>\n",
       "      <th>25%</th>\n",
       "      <td>2.000000</td>\n",
       "      <td>2009.000000</td>\n",
       "      <td>141.250000</td>\n",
       "      <td>790.250000</td>\n",
       "    </tr>\n",
       "    <tr>\n",
       "      <th>50%</th>\n",
       "      <td>3.000000</td>\n",
       "      <td>2010.000000</td>\n",
       "      <td>182.500000</td>\n",
       "      <td>1507.500000</td>\n",
       "    </tr>\n",
       "    <tr>\n",
       "      <th>75%</th>\n",
       "      <td>4.000000</td>\n",
       "      <td>2014.000000</td>\n",
       "      <td>209.250000</td>\n",
       "      <td>2352.000000</td>\n",
       "    </tr>\n",
       "    <tr>\n",
       "      <th>max</th>\n",
       "      <td>5.000000</td>\n",
       "      <td>2019.000000</td>\n",
       "      <td>237.000000</td>\n",
       "      <td>2847.000000</td>\n",
       "    </tr>\n",
       "  </tbody>\n",
       "</table>\n",
       "</div>"
      ],
      "text/plain": [
       "       Movie ID  Release Year  Budget (M)  Revenue (M)\n",
       "count  5.000000      5.000000    4.000000     4.000000\n",
       "mean   3.000000   2009.800000  168.000000  1634.750000\n",
       "std    1.581139      8.167007   71.642632  1055.566317\n",
       "min    1.000000   1997.000000   70.000000   677.000000\n",
       "25%    2.000000   2009.000000  141.250000   790.250000\n",
       "50%    3.000000   2010.000000  182.500000  1507.500000\n",
       "75%    4.000000   2014.000000  209.250000  2352.000000\n",
       "max    5.000000   2019.000000  237.000000  2847.000000"
      ]
     },
     "execution_count": 23,
     "metadata": {},
     "output_type": "execute_result"
    }
   ],
   "source": [
    "movies.describe()"
   ]
  },
  {
   "cell_type": "code",
   "execution_count": 24,
   "id": "5f33e3c3-eb77-45d5-9a89-29691c0a6d64",
   "metadata": {},
   "outputs": [
    {
     "data": {
      "text/plain": [
       "Movie ID        0\n",
       "Title           0\n",
       "Genre           0\n",
       "Release Year    0\n",
       "Budget (M)      1\n",
       "Revenue (M)     1\n",
       "dtype: int64"
      ]
     },
     "execution_count": 24,
     "metadata": {},
     "output_type": "execute_result"
    }
   ],
   "source": [
    "movies.isnull().sum()"
   ]
  },
  {
   "cell_type": "code",
   "execution_count": 25,
   "id": "18ebfc4b-e2c5-4c99-9157-ae588bd87906",
   "metadata": {},
   "outputs": [
    {
     "data": {
      "text/html": [
       "<div>\n",
       "<style scoped>\n",
       "    .dataframe tbody tr th:only-of-type {\n",
       "        vertical-align: middle;\n",
       "    }\n",
       "\n",
       "    .dataframe tbody tr th {\n",
       "        vertical-align: top;\n",
       "    }\n",
       "\n",
       "    .dataframe thead th {\n",
       "        text-align: right;\n",
       "    }\n",
       "</style>\n",
       "<table border=\"1\" class=\"dataframe\">\n",
       "  <thead>\n",
       "    <tr style=\"text-align: right;\">\n",
       "      <th></th>\n",
       "      <th>Movie ID</th>\n",
       "      <th>Title</th>\n",
       "      <th>Genre</th>\n",
       "      <th>Release Year</th>\n",
       "      <th>Budget (M)</th>\n",
       "      <th>Revenue (M)</th>\n",
       "    </tr>\n",
       "  </thead>\n",
       "  <tbody>\n",
       "    <tr>\n",
       "      <th>0</th>\n",
       "      <td>1</td>\n",
       "      <td>Avatar</td>\n",
       "      <td>Sci-Fi</td>\n",
       "      <td>2009</td>\n",
       "      <td>237.0</td>\n",
       "      <td>2847.0</td>\n",
       "    </tr>\n",
       "    <tr>\n",
       "      <th>1</th>\n",
       "      <td>2</td>\n",
       "      <td>Titanic</td>\n",
       "      <td>Romance</td>\n",
       "      <td>1997</td>\n",
       "      <td>200.0</td>\n",
       "      <td>2187.0</td>\n",
       "    </tr>\n",
       "    <tr>\n",
       "      <th>2</th>\n",
       "      <td>3</td>\n",
       "      <td>Inception</td>\n",
       "      <td>Sci-Fi</td>\n",
       "      <td>2010</td>\n",
       "      <td>NaN</td>\n",
       "      <td>828.0</td>\n",
       "    </tr>\n",
       "    <tr>\n",
       "      <th>3</th>\n",
       "      <td>4</td>\n",
       "      <td>Joker</td>\n",
       "      <td>Drama</td>\n",
       "      <td>2019</td>\n",
       "      <td>70.0</td>\n",
       "      <td>NaN</td>\n",
       "    </tr>\n",
       "    <tr>\n",
       "      <th>4</th>\n",
       "      <td>5</td>\n",
       "      <td>Interstellar</td>\n",
       "      <td>Sci-Fi</td>\n",
       "      <td>2014</td>\n",
       "      <td>165.0</td>\n",
       "      <td>677.0</td>\n",
       "    </tr>\n",
       "  </tbody>\n",
       "</table>\n",
       "</div>"
      ],
      "text/plain": [
       "   Movie ID         Title    Genre  Release Year  Budget (M)  Revenue (M)\n",
       "0         1        Avatar   Sci-Fi          2009       237.0       2847.0\n",
       "1         2       Titanic  Romance          1997       200.0       2187.0\n",
       "2         3     Inception   Sci-Fi          2010         NaN        828.0\n",
       "3         4         Joker    Drama          2019        70.0          NaN\n",
       "4         5  Interstellar   Sci-Fi          2014       165.0        677.0"
      ]
     },
     "execution_count": 25,
     "metadata": {},
     "output_type": "execute_result"
    }
   ],
   "source": [
    "movies.head()"
   ]
  },
  {
   "cell_type": "markdown",
   "id": "2da88dda-2f86-4d62-b5c3-af44fde8fd26",
   "metadata": {},
   "source": [
    "<div style=\"background-color: RGB(0,150,250);\" >\n",
    "<h2 style=\"margin: auto; padding: 20px; color:#fff; \">Etape  - Analyse </h2>\n",
    "</div>"
   ]
  },
  {
   "cell_type": "code",
   "execution_count": 27,
   "id": "6f5964b5-76f3-4e5f-b72a-6972d6cf7d5e",
   "metadata": {},
   "outputs": [
    {
     "data": {
      "text/html": [
       "<div>\n",
       "<style scoped>\n",
       "    .dataframe tbody tr th:only-of-type {\n",
       "        vertical-align: middle;\n",
       "    }\n",
       "\n",
       "    .dataframe tbody tr th {\n",
       "        vertical-align: top;\n",
       "    }\n",
       "\n",
       "    .dataframe thead th {\n",
       "        text-align: right;\n",
       "    }\n",
       "</style>\n",
       "<table border=\"1\" class=\"dataframe\">\n",
       "  <thead>\n",
       "    <tr style=\"text-align: right;\">\n",
       "      <th></th>\n",
       "      <th>Actor ID</th>\n",
       "      <th>Name</th>\n",
       "      <th>Age</th>\n",
       "      <th>Nationality</th>\n",
       "    </tr>\n",
       "  </thead>\n",
       "  <tbody>\n",
       "    <tr>\n",
       "      <th>0</th>\n",
       "      <td>1</td>\n",
       "      <td>Leonardo DiCaprio</td>\n",
       "      <td>48.0</td>\n",
       "      <td>USA</td>\n",
       "    </tr>\n",
       "    <tr>\n",
       "      <th>1</th>\n",
       "      <td>2</td>\n",
       "      <td>Kate Winslet</td>\n",
       "      <td>47.0</td>\n",
       "      <td>UK</td>\n",
       "    </tr>\n",
       "    <tr>\n",
       "      <th>2</th>\n",
       "      <td>3</td>\n",
       "      <td>Matt Damon</td>\n",
       "      <td>52.0</td>\n",
       "      <td>USA</td>\n",
       "    </tr>\n",
       "    <tr>\n",
       "      <th>3</th>\n",
       "      <td>4</td>\n",
       "      <td>Joaquin Phoenix</td>\n",
       "      <td>NaN</td>\n",
       "      <td>USA</td>\n",
       "    </tr>\n",
       "    <tr>\n",
       "      <th>4</th>\n",
       "      <td>5</td>\n",
       "      <td>Anne Hathaway</td>\n",
       "      <td>40.0</td>\n",
       "      <td>USA</td>\n",
       "    </tr>\n",
       "  </tbody>\n",
       "</table>\n",
       "</div>"
      ],
      "text/plain": [
       "   Actor ID               Name   Age Nationality\n",
       "0         1  Leonardo DiCaprio  48.0         USA\n",
       "1         2       Kate Winslet  47.0          UK\n",
       "2         3         Matt Damon  52.0         USA\n",
       "3         4    Joaquin Phoenix   NaN         USA\n",
       "4         5      Anne Hathaway  40.0         USA"
      ]
     },
     "execution_count": 27,
     "metadata": {},
     "output_type": "execute_result"
    }
   ],
   "source": [
    "actors.head()"
   ]
  },
  {
   "cell_type": "code",
   "execution_count": 28,
   "id": "35134c2d-ae5a-436b-ad27-41cd41a22352",
   "metadata": {},
   "outputs": [],
   "source": [
    "actors_all = actors.fillna(actors[\"Age\"].mean())"
   ]
  },
  {
   "cell_type": "code",
   "execution_count": 29,
   "id": "2ba6c178-f7ae-4815-bd47-18b8f8745ae3",
   "metadata": {},
   "outputs": [
    {
     "data": {
      "text/html": [
       "<div>\n",
       "<style scoped>\n",
       "    .dataframe tbody tr th:only-of-type {\n",
       "        vertical-align: middle;\n",
       "    }\n",
       "\n",
       "    .dataframe tbody tr th {\n",
       "        vertical-align: top;\n",
       "    }\n",
       "\n",
       "    .dataframe thead th {\n",
       "        text-align: right;\n",
       "    }\n",
       "</style>\n",
       "<table border=\"1\" class=\"dataframe\">\n",
       "  <thead>\n",
       "    <tr style=\"text-align: right;\">\n",
       "      <th></th>\n",
       "      <th>Actor ID</th>\n",
       "      <th>Name</th>\n",
       "      <th>Age</th>\n",
       "      <th>Nationality</th>\n",
       "    </tr>\n",
       "  </thead>\n",
       "  <tbody>\n",
       "    <tr>\n",
       "      <th>0</th>\n",
       "      <td>1</td>\n",
       "      <td>Leonardo DiCaprio</td>\n",
       "      <td>48.00</td>\n",
       "      <td>USA</td>\n",
       "    </tr>\n",
       "    <tr>\n",
       "      <th>1</th>\n",
       "      <td>2</td>\n",
       "      <td>Kate Winslet</td>\n",
       "      <td>47.00</td>\n",
       "      <td>UK</td>\n",
       "    </tr>\n",
       "    <tr>\n",
       "      <th>2</th>\n",
       "      <td>3</td>\n",
       "      <td>Matt Damon</td>\n",
       "      <td>52.00</td>\n",
       "      <td>USA</td>\n",
       "    </tr>\n",
       "    <tr>\n",
       "      <th>3</th>\n",
       "      <td>4</td>\n",
       "      <td>Joaquin Phoenix</td>\n",
       "      <td>46.75</td>\n",
       "      <td>USA</td>\n",
       "    </tr>\n",
       "    <tr>\n",
       "      <th>4</th>\n",
       "      <td>5</td>\n",
       "      <td>Anne Hathaway</td>\n",
       "      <td>40.00</td>\n",
       "      <td>USA</td>\n",
       "    </tr>\n",
       "  </tbody>\n",
       "</table>\n",
       "</div>"
      ],
      "text/plain": [
       "   Actor ID               Name    Age Nationality\n",
       "0         1  Leonardo DiCaprio  48.00         USA\n",
       "1         2       Kate Winslet  47.00          UK\n",
       "2         3         Matt Damon  52.00         USA\n",
       "3         4    Joaquin Phoenix  46.75         USA\n",
       "4         5      Anne Hathaway  40.00         USA"
      ]
     },
     "execution_count": 29,
     "metadata": {},
     "output_type": "execute_result"
    }
   ],
   "source": [
    "actors_all"
   ]
  },
  {
   "cell_type": "code",
   "execution_count": null,
   "id": "94ccabf8-98a8-4199-889c-042cc220d5db",
   "metadata": {},
   "outputs": [],
   "source": [
    "#Experience Level in the actors table: categorize actors based on their age."
   ]
  },
  {
   "cell_type": "code",
   "execution_count": 32,
   "id": "7ba0ee72-3da3-487d-818c-d0c9e3d2fd21",
   "metadata": {},
   "outputs": [],
   "source": [
    "actors_all_sort=actors_all.sort_values(by=\"Age\",ascending=False)"
   ]
  },
  {
   "cell_type": "code",
   "execution_count": 33,
   "id": "52a9c992-22c1-42ff-aebf-ecae8f93abb8",
   "metadata": {},
   "outputs": [
    {
     "data": {
      "text/html": [
       "<div>\n",
       "<style scoped>\n",
       "    .dataframe tbody tr th:only-of-type {\n",
       "        vertical-align: middle;\n",
       "    }\n",
       "\n",
       "    .dataframe tbody tr th {\n",
       "        vertical-align: top;\n",
       "    }\n",
       "\n",
       "    .dataframe thead th {\n",
       "        text-align: right;\n",
       "    }\n",
       "</style>\n",
       "<table border=\"1\" class=\"dataframe\">\n",
       "  <thead>\n",
       "    <tr style=\"text-align: right;\">\n",
       "      <th></th>\n",
       "      <th>Actor ID</th>\n",
       "      <th>Name</th>\n",
       "      <th>Age</th>\n",
       "      <th>Nationality</th>\n",
       "    </tr>\n",
       "  </thead>\n",
       "  <tbody>\n",
       "    <tr>\n",
       "      <th>2</th>\n",
       "      <td>3</td>\n",
       "      <td>Matt Damon</td>\n",
       "      <td>52.00</td>\n",
       "      <td>USA</td>\n",
       "    </tr>\n",
       "    <tr>\n",
       "      <th>0</th>\n",
       "      <td>1</td>\n",
       "      <td>Leonardo DiCaprio</td>\n",
       "      <td>48.00</td>\n",
       "      <td>USA</td>\n",
       "    </tr>\n",
       "    <tr>\n",
       "      <th>1</th>\n",
       "      <td>2</td>\n",
       "      <td>Kate Winslet</td>\n",
       "      <td>47.00</td>\n",
       "      <td>UK</td>\n",
       "    </tr>\n",
       "    <tr>\n",
       "      <th>3</th>\n",
       "      <td>4</td>\n",
       "      <td>Joaquin Phoenix</td>\n",
       "      <td>46.75</td>\n",
       "      <td>USA</td>\n",
       "    </tr>\n",
       "    <tr>\n",
       "      <th>4</th>\n",
       "      <td>5</td>\n",
       "      <td>Anne Hathaway</td>\n",
       "      <td>40.00</td>\n",
       "      <td>USA</td>\n",
       "    </tr>\n",
       "  </tbody>\n",
       "</table>\n",
       "</div>"
      ],
      "text/plain": [
       "   Actor ID               Name    Age Nationality\n",
       "2         3         Matt Damon  52.00         USA\n",
       "0         1  Leonardo DiCaprio  48.00         USA\n",
       "1         2       Kate Winslet  47.00          UK\n",
       "3         4    Joaquin Phoenix  46.75         USA\n",
       "4         5      Anne Hathaway  40.00         USA"
      ]
     },
     "execution_count": 33,
     "metadata": {},
     "output_type": "execute_result"
    }
   ],
   "source": [
    "actors_all_sort"
   ]
  },
  {
   "cell_type": "code",
   "execution_count": 35,
   "id": "7a8b1db7-aa9d-4d95-b440-2efbc60fc575",
   "metadata": {},
   "outputs": [
    {
     "name": "stdout",
     "output_type": "stream",
     "text": [
      "   Actor ID               Name    Age Nationality Experience Level\n",
      "2         3         Matt Damon  52.00         USA           Senior\n",
      "0         1  Leonardo DiCaprio  48.00         USA        Mid-Level\n",
      "1         2       Kate Winslet  47.00          UK        Mid-Level\n",
      "3         4    Joaquin Phoenix  46.75         USA        Mid-Level\n",
      "4         5      Anne Hathaway  40.00         USA        Mid-Level\n"
     ]
    }
   ],
   "source": [
    "\n",
    "def categorize_experience(age):\n",
    "    if age < 30:\n",
    "        return 'Junior'\n",
    "    elif age < 50:\n",
    "        return 'Mid-Level'\n",
    "    else:\n",
    "        return 'Senior'\n",
    "\n",
    "actors_all_sort['Experience Level'] = actors_all_sort['Age'].apply(categorize_experience)\n",
    "print(actors_all_sort)\n"
   ]
  },
  {
   "cell_type": "code",
   "execution_count": null,
   "id": "349d7939-8a56-4d3d-afe1-3157d54e599a",
   "metadata": {},
   "outputs": [],
   "source": [
    "#Analyze the most profitable movies."
   ]
  },
  {
   "cell_type": "code",
   "execution_count": 36,
   "id": "d375caf8-4358-4322-a412-a56194413004",
   "metadata": {},
   "outputs": [
    {
     "data": {
      "text/html": [
       "<div>\n",
       "<style scoped>\n",
       "    .dataframe tbody tr th:only-of-type {\n",
       "        vertical-align: middle;\n",
       "    }\n",
       "\n",
       "    .dataframe tbody tr th {\n",
       "        vertical-align: top;\n",
       "    }\n",
       "\n",
       "    .dataframe thead th {\n",
       "        text-align: right;\n",
       "    }\n",
       "</style>\n",
       "<table border=\"1\" class=\"dataframe\">\n",
       "  <thead>\n",
       "    <tr style=\"text-align: right;\">\n",
       "      <th></th>\n",
       "      <th>Movie ID</th>\n",
       "      <th>Title</th>\n",
       "      <th>Genre</th>\n",
       "      <th>Release Year</th>\n",
       "      <th>Budget (M)</th>\n",
       "      <th>Revenue (M)</th>\n",
       "    </tr>\n",
       "  </thead>\n",
       "  <tbody>\n",
       "    <tr>\n",
       "      <th>0</th>\n",
       "      <td>1</td>\n",
       "      <td>Avatar</td>\n",
       "      <td>Sci-Fi</td>\n",
       "      <td>2009</td>\n",
       "      <td>237.0</td>\n",
       "      <td>2847.0</td>\n",
       "    </tr>\n",
       "    <tr>\n",
       "      <th>1</th>\n",
       "      <td>2</td>\n",
       "      <td>Titanic</td>\n",
       "      <td>Romance</td>\n",
       "      <td>1997</td>\n",
       "      <td>200.0</td>\n",
       "      <td>2187.0</td>\n",
       "    </tr>\n",
       "    <tr>\n",
       "      <th>2</th>\n",
       "      <td>3</td>\n",
       "      <td>Inception</td>\n",
       "      <td>Sci-Fi</td>\n",
       "      <td>2010</td>\n",
       "      <td>NaN</td>\n",
       "      <td>828.0</td>\n",
       "    </tr>\n",
       "    <tr>\n",
       "      <th>3</th>\n",
       "      <td>4</td>\n",
       "      <td>Joker</td>\n",
       "      <td>Drama</td>\n",
       "      <td>2019</td>\n",
       "      <td>70.0</td>\n",
       "      <td>NaN</td>\n",
       "    </tr>\n",
       "    <tr>\n",
       "      <th>4</th>\n",
       "      <td>5</td>\n",
       "      <td>Interstellar</td>\n",
       "      <td>Sci-Fi</td>\n",
       "      <td>2014</td>\n",
       "      <td>165.0</td>\n",
       "      <td>677.0</td>\n",
       "    </tr>\n",
       "  </tbody>\n",
       "</table>\n",
       "</div>"
      ],
      "text/plain": [
       "   Movie ID         Title    Genre  Release Year  Budget (M)  Revenue (M)\n",
       "0         1        Avatar   Sci-Fi          2009       237.0       2847.0\n",
       "1         2       Titanic  Romance          1997       200.0       2187.0\n",
       "2         3     Inception   Sci-Fi          2010         NaN        828.0\n",
       "3         4         Joker    Drama          2019        70.0          NaN\n",
       "4         5  Interstellar   Sci-Fi          2014       165.0        677.0"
      ]
     },
     "execution_count": 36,
     "metadata": {},
     "output_type": "execute_result"
    }
   ],
   "source": [
    "movies"
   ]
  },
  {
   "cell_type": "code",
   "execution_count": 37,
   "id": "71034975-03f4-4ed1-916e-503bab77cc20",
   "metadata": {},
   "outputs": [],
   "source": [
    "movies[\"Budget (M)\"] = movies['Budget (M)'].fillna(movies['Budget (M)'].mean())"
   ]
  },
  {
   "cell_type": "code",
   "execution_count": null,
   "id": "e84f617d-c947-4873-8825-2c3e95d712de",
   "metadata": {},
   "outputs": [],
   "source": []
  },
  {
   "cell_type": "code",
   "execution_count": 38,
   "id": "348c8cf8-0a07-4778-bca0-1c46a753a51a",
   "metadata": {},
   "outputs": [
    {
     "data": {
      "text/html": [
       "<div>\n",
       "<style scoped>\n",
       "    .dataframe tbody tr th:only-of-type {\n",
       "        vertical-align: middle;\n",
       "    }\n",
       "\n",
       "    .dataframe tbody tr th {\n",
       "        vertical-align: top;\n",
       "    }\n",
       "\n",
       "    .dataframe thead th {\n",
       "        text-align: right;\n",
       "    }\n",
       "</style>\n",
       "<table border=\"1\" class=\"dataframe\">\n",
       "  <thead>\n",
       "    <tr style=\"text-align: right;\">\n",
       "      <th></th>\n",
       "      <th>Movie ID</th>\n",
       "      <th>Title</th>\n",
       "      <th>Genre</th>\n",
       "      <th>Release Year</th>\n",
       "      <th>Budget (M)</th>\n",
       "      <th>Revenue (M)</th>\n",
       "    </tr>\n",
       "  </thead>\n",
       "  <tbody>\n",
       "    <tr>\n",
       "      <th>0</th>\n",
       "      <td>1</td>\n",
       "      <td>Avatar</td>\n",
       "      <td>Sci-Fi</td>\n",
       "      <td>2009</td>\n",
       "      <td>237.0</td>\n",
       "      <td>2847.0</td>\n",
       "    </tr>\n",
       "    <tr>\n",
       "      <th>1</th>\n",
       "      <td>2</td>\n",
       "      <td>Titanic</td>\n",
       "      <td>Romance</td>\n",
       "      <td>1997</td>\n",
       "      <td>200.0</td>\n",
       "      <td>2187.0</td>\n",
       "    </tr>\n",
       "    <tr>\n",
       "      <th>2</th>\n",
       "      <td>3</td>\n",
       "      <td>Inception</td>\n",
       "      <td>Sci-Fi</td>\n",
       "      <td>2010</td>\n",
       "      <td>168.0</td>\n",
       "      <td>828.0</td>\n",
       "    </tr>\n",
       "    <tr>\n",
       "      <th>3</th>\n",
       "      <td>4</td>\n",
       "      <td>Joker</td>\n",
       "      <td>Drama</td>\n",
       "      <td>2019</td>\n",
       "      <td>70.0</td>\n",
       "      <td>NaN</td>\n",
       "    </tr>\n",
       "    <tr>\n",
       "      <th>4</th>\n",
       "      <td>5</td>\n",
       "      <td>Interstellar</td>\n",
       "      <td>Sci-Fi</td>\n",
       "      <td>2014</td>\n",
       "      <td>165.0</td>\n",
       "      <td>677.0</td>\n",
       "    </tr>\n",
       "  </tbody>\n",
       "</table>\n",
       "</div>"
      ],
      "text/plain": [
       "   Movie ID         Title    Genre  Release Year  Budget (M)  Revenue (M)\n",
       "0         1        Avatar   Sci-Fi          2009       237.0       2847.0\n",
       "1         2       Titanic  Romance          1997       200.0       2187.0\n",
       "2         3     Inception   Sci-Fi          2010       168.0        828.0\n",
       "3         4         Joker    Drama          2019        70.0          NaN\n",
       "4         5  Interstellar   Sci-Fi          2014       165.0        677.0"
      ]
     },
     "execution_count": 38,
     "metadata": {},
     "output_type": "execute_result"
    }
   ],
   "source": [
    "movies"
   ]
  },
  {
   "cell_type": "code",
   "execution_count": 39,
   "id": "768bd58d-9c36-42ee-adb7-6ff793e7f769",
   "metadata": {},
   "outputs": [],
   "source": [
    "movies[\"Revenue (M)\"] = movies['Revenue (M)'].fillna(movies['Revenue (M)'].mean())"
   ]
  },
  {
   "cell_type": "code",
   "execution_count": 40,
   "id": "c8b2fee9-605a-4fa4-9ab5-9357a368565f",
   "metadata": {},
   "outputs": [
    {
     "data": {
      "text/html": [
       "<div>\n",
       "<style scoped>\n",
       "    .dataframe tbody tr th:only-of-type {\n",
       "        vertical-align: middle;\n",
       "    }\n",
       "\n",
       "    .dataframe tbody tr th {\n",
       "        vertical-align: top;\n",
       "    }\n",
       "\n",
       "    .dataframe thead th {\n",
       "        text-align: right;\n",
       "    }\n",
       "</style>\n",
       "<table border=\"1\" class=\"dataframe\">\n",
       "  <thead>\n",
       "    <tr style=\"text-align: right;\">\n",
       "      <th></th>\n",
       "      <th>Movie ID</th>\n",
       "      <th>Title</th>\n",
       "      <th>Genre</th>\n",
       "      <th>Release Year</th>\n",
       "      <th>Budget (M)</th>\n",
       "      <th>Revenue (M)</th>\n",
       "    </tr>\n",
       "  </thead>\n",
       "  <tbody>\n",
       "    <tr>\n",
       "      <th>0</th>\n",
       "      <td>1</td>\n",
       "      <td>Avatar</td>\n",
       "      <td>Sci-Fi</td>\n",
       "      <td>2009</td>\n",
       "      <td>237.0</td>\n",
       "      <td>2847.00</td>\n",
       "    </tr>\n",
       "    <tr>\n",
       "      <th>1</th>\n",
       "      <td>2</td>\n",
       "      <td>Titanic</td>\n",
       "      <td>Romance</td>\n",
       "      <td>1997</td>\n",
       "      <td>200.0</td>\n",
       "      <td>2187.00</td>\n",
       "    </tr>\n",
       "    <tr>\n",
       "      <th>2</th>\n",
       "      <td>3</td>\n",
       "      <td>Inception</td>\n",
       "      <td>Sci-Fi</td>\n",
       "      <td>2010</td>\n",
       "      <td>168.0</td>\n",
       "      <td>828.00</td>\n",
       "    </tr>\n",
       "    <tr>\n",
       "      <th>3</th>\n",
       "      <td>4</td>\n",
       "      <td>Joker</td>\n",
       "      <td>Drama</td>\n",
       "      <td>2019</td>\n",
       "      <td>70.0</td>\n",
       "      <td>1634.75</td>\n",
       "    </tr>\n",
       "    <tr>\n",
       "      <th>4</th>\n",
       "      <td>5</td>\n",
       "      <td>Interstellar</td>\n",
       "      <td>Sci-Fi</td>\n",
       "      <td>2014</td>\n",
       "      <td>165.0</td>\n",
       "      <td>677.00</td>\n",
       "    </tr>\n",
       "  </tbody>\n",
       "</table>\n",
       "</div>"
      ],
      "text/plain": [
       "   Movie ID         Title    Genre  Release Year  Budget (M)  Revenue (M)\n",
       "0         1        Avatar   Sci-Fi          2009       237.0      2847.00\n",
       "1         2       Titanic  Romance          1997       200.0      2187.00\n",
       "2         3     Inception   Sci-Fi          2010       168.0       828.00\n",
       "3         4         Joker    Drama          2019        70.0      1634.75\n",
       "4         5  Interstellar   Sci-Fi          2014       165.0       677.00"
      ]
     },
     "execution_count": 40,
     "metadata": {},
     "output_type": "execute_result"
    }
   ],
   "source": [
    "movies"
   ]
  },
  {
   "cell_type": "code",
   "execution_count": null,
   "id": "45695030-3190-49e0-a2f8-1258a387279f",
   "metadata": {},
   "outputs": [],
   "source": [
    "# Most Profitable Movies:"
   ]
  },
  {
   "cell_type": "code",
   "execution_count": 46,
   "id": "1d7e9436-10eb-4e84-bb0c-7058cd7a1f17",
   "metadata": {},
   "outputs": [
    {
     "name": "stdout",
     "output_type": "stream",
     "text": [
      "   Movie ID         Title    Genre  Release Year  Budget (M)  Revenue (M)  \\\n",
      "0         1        Avatar   Sci-Fi          2009       237.0      2847.00   \n",
      "1         2       Titanic  Romance          1997       200.0      2187.00   \n",
      "2         3     Inception   Sci-Fi          2010       168.0       828.00   \n",
      "3         4         Joker    Drama          2019        70.0      1634.75   \n",
      "4         5  Interstellar   Sci-Fi          2014       165.0       677.00   \n",
      "\n",
      "   Profit (M)  \n",
      "0     2610.00  \n",
      "1     1987.00  \n",
      "2      660.00  \n",
      "3     1564.75  \n",
      "4      512.00  \n"
     ]
    }
   ],
   "source": [
    "movies['Profit (M)'] = movies['Revenue (M)'] - movies['Budget (M)']\n",
    "print(movies)\n"
   ]
  },
  {
   "cell_type": "code",
   "execution_count": 49,
   "id": "5e75e511-1469-4d6a-9c7e-11d780039a2c",
   "metadata": {},
   "outputs": [],
   "source": [
    "most_profitable_movies = movies.groupby(\"Genre\")[[\"Profit (M)\",\"Revenue (M)\"]].mean()"
   ]
  },
  {
   "cell_type": "code",
   "execution_count": 50,
   "id": "91729b3d-6cae-4ed2-988b-2f42a2f9e35a",
   "metadata": {},
   "outputs": [
    {
     "data": {
      "text/html": [
       "<div>\n",
       "<style scoped>\n",
       "    .dataframe tbody tr th:only-of-type {\n",
       "        vertical-align: middle;\n",
       "    }\n",
       "\n",
       "    .dataframe tbody tr th {\n",
       "        vertical-align: top;\n",
       "    }\n",
       "\n",
       "    .dataframe thead th {\n",
       "        text-align: right;\n",
       "    }\n",
       "</style>\n",
       "<table border=\"1\" class=\"dataframe\">\n",
       "  <thead>\n",
       "    <tr style=\"text-align: right;\">\n",
       "      <th></th>\n",
       "      <th>Profit (M)</th>\n",
       "      <th>Revenue (M)</th>\n",
       "    </tr>\n",
       "    <tr>\n",
       "      <th>Genre</th>\n",
       "      <th></th>\n",
       "      <th></th>\n",
       "    </tr>\n",
       "  </thead>\n",
       "  <tbody>\n",
       "    <tr>\n",
       "      <th>Drama</th>\n",
       "      <td>1564.750000</td>\n",
       "      <td>1634.750000</td>\n",
       "    </tr>\n",
       "    <tr>\n",
       "      <th>Romance</th>\n",
       "      <td>1987.000000</td>\n",
       "      <td>2187.000000</td>\n",
       "    </tr>\n",
       "    <tr>\n",
       "      <th>Sci-Fi</th>\n",
       "      <td>1260.666667</td>\n",
       "      <td>1450.666667</td>\n",
       "    </tr>\n",
       "  </tbody>\n",
       "</table>\n",
       "</div>"
      ],
      "text/plain": [
       "          Profit (M)  Revenue (M)\n",
       "Genre                            \n",
       "Drama    1564.750000  1634.750000\n",
       "Romance  1987.000000  2187.000000\n",
       "Sci-Fi   1260.666667  1450.666667"
      ]
     },
     "execution_count": 50,
     "metadata": {},
     "output_type": "execute_result"
    }
   ],
   "source": [
    "most_profitable_movies"
   ]
  },
  {
   "cell_type": "code",
   "execution_count": 51,
   "id": "29ef64fe-afc0-454b-ab36-39953b9c2910",
   "metadata": {},
   "outputs": [
    {
     "name": "stdout",
     "output_type": "stream",
     "text": [
      "Most Profitable Movies:\n",
      "          Title  Profit (M)\n",
      "0        Avatar     2610.00\n",
      "1       Titanic     1987.00\n",
      "3         Joker     1564.75\n",
      "2     Inception      660.00\n",
      "4  Interstellar      512.00\n"
     ]
    }
   ],
   "source": [
    "# \n",
    "most_profitable_movies = movies.sort_values(by='Profit (M)', ascending=False)\n",
    "print(\"Most Profitable Movies:\")\n",
    "print(most_profitable_movies[['Title', 'Profit (M)']])\n"
   ]
  },
  {
   "cell_type": "code",
   "execution_count": null,
   "id": "48136182-fe9e-4320-8d78-9ee392029371",
   "metadata": {},
   "outputs": [],
   "source": [
    "# Count actors by nationality"
   ]
  },
  {
   "cell_type": "code",
   "execution_count": 52,
   "id": "c2b236d4-1b88-412c-83c2-dcea2d05e9eb",
   "metadata": {},
   "outputs": [
    {
     "name": "stdout",
     "output_type": "stream",
     "text": [
      "Actor Nationality Distribution:\n",
      "Nationality\n",
      "USA    4\n",
      "UK     1\n",
      "Name: count, dtype: int64\n"
     ]
    }
   ],
   "source": [
    "# Count actors by nationality\n",
    "actor_nationality_distribution = actors['Nationality'].value_counts()\n",
    "print(\"Actor Nationality Distribution:\")\n",
    "print(actor_nationality_distribution)\n"
   ]
  },
  {
   "cell_type": "code",
   "execution_count": null,
   "id": "16c8b769-c979-46c5-9c03-ab93a45db5d8",
   "metadata": {},
   "outputs": [],
   "source": [
    "#Average Budget and Revenue by Genre:"
   ]
  },
  {
   "cell_type": "code",
   "execution_count": 53,
   "id": "dfa9dbbd-b200-4102-8a0d-0ffd9c7577f9",
   "metadata": {},
   "outputs": [
    {
     "name": "stdout",
     "output_type": "stream",
     "text": [
      "Average Budget and Revenue by Genre:\n",
      "         Budget (M)  Revenue (M)\n",
      "Genre                           \n",
      "Drama          70.0  1634.750000\n",
      "Romance       200.0  2187.000000\n",
      "Sci-Fi        190.0  1450.666667\n"
     ]
    }
   ],
   "source": [
    "# Group by genre and calculate average budget and revenue\n",
    "average_genre_stats = movies.groupby('Genre')[['Budget (M)', 'Revenue (M)']].mean()\n",
    "print(\"Average Budget and Revenue by Genre:\")\n",
    "print(average_genre_stats)\n"
   ]
  }
 ],
 "metadata": {
  "kernelspec": {
   "display_name": "Python 3 (ipykernel)",
   "language": "python",
   "name": "python3"
  },
  "language_info": {
   "codemirror_mode": {
    "name": "ipython",
    "version": 3
   },
   "file_extension": ".py",
   "mimetype": "text/x-python",
   "name": "python",
   "nbconvert_exporter": "python",
   "pygments_lexer": "ipython3",
   "version": "3.11.7"
  }
 },
 "nbformat": 4,
 "nbformat_minor": 5
}
